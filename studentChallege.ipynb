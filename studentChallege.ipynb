{
 "cells": [
  {
   "cell_type": "markdown",
   "id": "9c960cd6-a10b-4e3d-ba23-fe7a3ef7ae95",
   "metadata": {},
   "source": [
    "### Import required dependencies"
   ]
  },
  {
   "cell_type": "code",
   "execution_count": 9,
   "id": "34266c40-c789-42cd-802f-83eedddc4138",
   "metadata": {},
   "outputs": [],
   "source": [
    "import pandas as pd\n",
    "import os"
   ]
  },
  {
   "cell_type": "markdown",
   "id": "a47f3bec-4c1a-4b1e-9747-546678c1bb82",
   "metadata": {},
   "source": [
    "## Deliverable 1: Collect the Data\n",
    "\n",
    "To collect the data that you’ll need, complete the following steps:\n",
    "\n",
    "1. Using the Pandas `read_csv` function and the `os` module, import the data from the `new_full_student_data.csv` file, and create a DataFrame called student_df. \n",
    "\n",
    "2. Use the head function to confirm that Pandas properly imported the data.\n"
   ]
  },
  {
   "cell_type": "code",
   "execution_count": 10,
   "id": "b9d76875-49a9-4591-83d6-2e784bffcb21",
   "metadata": {},
   "outputs": [],
   "source": [
    "# Create the path and import the data\n",
    "full_student_data = os.path.join('../Resources/new_full_student_data.csv')\n",
    "student_df = pd.read_csv(full_student_data)"
   ]
  },
  {
   "cell_type": "code",
   "execution_count": 11,
   "id": "c73ce640-ae34-4d45-9714-40eb55855d94",
   "metadata": {},
   "outputs": [
    {
     "data": {
      "text/plain": "   student_id      student_name grade           school_name  reading_score  \\\n0   103880842     Travis Martin   9th  Sullivan High School           59.0   \n1    45069750     Michael Brown   9th     Dixon High School           94.7   \n2    45024902   Gabriela Lucero   9th    Wagner High School           89.0   \n3    62582498  Susan Richardson   9th     Silva High School           69.7   \n4    16437227      Sherry Davis  11th    Bowers High School            NaN   \n\n   math_score school_type  school_budget  \n0        88.2      Public         961125  \n1        73.5     Charter         870334  \n2        70.4      Public         846745  \n3        80.3      Public         991918  \n4        27.5      Public         848324  ",
      "text/html": "<div>\n<style scoped>\n    .dataframe tbody tr th:only-of-type {\n        vertical-align: middle;\n    }\n\n    .dataframe tbody tr th {\n        vertical-align: top;\n    }\n\n    .dataframe thead th {\n        text-align: right;\n    }\n</style>\n<table border=\"1\" class=\"dataframe\">\n  <thead>\n    <tr style=\"text-align: right;\">\n      <th></th>\n      <th>student_id</th>\n      <th>student_name</th>\n      <th>grade</th>\n      <th>school_name</th>\n      <th>reading_score</th>\n      <th>math_score</th>\n      <th>school_type</th>\n      <th>school_budget</th>\n    </tr>\n  </thead>\n  <tbody>\n    <tr>\n      <th>0</th>\n      <td>103880842</td>\n      <td>Travis Martin</td>\n      <td>9th</td>\n      <td>Sullivan High School</td>\n      <td>59.0</td>\n      <td>88.2</td>\n      <td>Public</td>\n      <td>961125</td>\n    </tr>\n    <tr>\n      <th>1</th>\n      <td>45069750</td>\n      <td>Michael Brown</td>\n      <td>9th</td>\n      <td>Dixon High School</td>\n      <td>94.7</td>\n      <td>73.5</td>\n      <td>Charter</td>\n      <td>870334</td>\n    </tr>\n    <tr>\n      <th>2</th>\n      <td>45024902</td>\n      <td>Gabriela Lucero</td>\n      <td>9th</td>\n      <td>Wagner High School</td>\n      <td>89.0</td>\n      <td>70.4</td>\n      <td>Public</td>\n      <td>846745</td>\n    </tr>\n    <tr>\n      <th>3</th>\n      <td>62582498</td>\n      <td>Susan Richardson</td>\n      <td>9th</td>\n      <td>Silva High School</td>\n      <td>69.7</td>\n      <td>80.3</td>\n      <td>Public</td>\n      <td>991918</td>\n    </tr>\n    <tr>\n      <th>4</th>\n      <td>16437227</td>\n      <td>Sherry Davis</td>\n      <td>11th</td>\n      <td>Bowers High School</td>\n      <td>NaN</td>\n      <td>27.5</td>\n      <td>Public</td>\n      <td>848324</td>\n    </tr>\n  </tbody>\n</table>\n</div>"
     },
     "execution_count": 11,
     "metadata": {},
     "output_type": "execute_result"
    }
   ],
   "source": [
    "# Verify that the data was properly imported\n",
    "student_df.head()"
   ]
  },
  {
   "cell_type": "markdown",
   "id": "d7f4b183-8e6a-4d83-9d40-a5fd665ac07f",
   "metadata": {},
   "source": [
    "## Deliverable 2: Prepare the Data\n",
    "\n",
    "To prepare and clean your data for analysis, complete the following steps:\n",
    "    \n",
    "1. Check for and remove all rows with `NaN`, or missing, values in the student DataFrame. \n",
    "\n",
    "2. Check for and remove all duplicate rows in the student DataFrame.\n",
    "\n",
    "3. Use the `str.replace` function to remove the \"th\" from the grade levels in the grade column.\n",
    "\n",
    "4. Check data types using the `dtypes` property.\n",
    "\n",
    "5. Remove the \"th\" suffix from every value in the grade column using `str` and `replace`.\n",
    "\n",
    "6. Change the grade colum to the `int` type and verify column types.\n",
    "\n",
    "7. Use the head (and/or the tail) function to preview the DataFrame."
   ]
  },
  {
   "cell_type": "code",
   "execution_count": 12,
   "id": "9464841c",
   "metadata": {},
   "outputs": [
    {
     "data": {
      "text/plain": "student_id       19514\nstudent_name     19514\ngrade            19514\nschool_name      19514\nreading_score    17546\nmath_score       18532\nschool_type      19514\nschool_budget    19514\ndtype: int64"
     },
     "execution_count": 12,
     "metadata": {},
     "output_type": "execute_result"
    }
   ],
   "source": [
    "# Check for null values\n",
    "student_df.count()"
   ]
  },
  {
   "cell_type": "code",
   "execution_count": 13,
   "id": "ab80d5e8-0294-459e-9d68-19d7fe98c75e",
   "metadata": {},
   "outputs": [
    {
     "data": {
      "text/plain": "student_id       16667\nstudent_name     16667\ngrade            16667\nschool_name      16667\nreading_score    16667\nmath_score       16667\nschool_type      16667\nschool_budget    16667\ndtype: int64"
     },
     "execution_count": 13,
     "metadata": {},
     "output_type": "execute_result"
    }
   ],
   "source": [
    "# Drop rows with null values and verify removal\n",
    "student_df = student_df.dropna()\n",
    "student_df.count()"
   ]
  },
  {
   "cell_type": "code",
   "execution_count": 14,
   "id": "2292509a-c429-45e2-aa62-bb0397091c76",
   "metadata": {},
   "outputs": [
    {
     "data": {
      "text/plain": "1836"
     },
     "execution_count": 14,
     "metadata": {},
     "output_type": "execute_result"
    }
   ],
   "source": [
    "# Check for duplicated rows\n",
    "student_df.duplicated().sum()"
   ]
  },
  {
   "cell_type": "code",
   "execution_count": 15,
   "id": "95c0c53e-602f-44a0-b72a-3383dcce09fc",
   "metadata": {},
   "outputs": [
    {
     "data": {
      "text/plain": "0"
     },
     "execution_count": 15,
     "metadata": {},
     "output_type": "execute_result"
    }
   ],
   "source": [
    "# Drop duplicated rows and verify removal\n",
    "student_df = student_df.drop_duplicates()\n",
    "student_df.duplicated().sum()"
   ]
  },
  {
   "cell_type": "code",
   "execution_count": 16,
   "id": "d04088bb-df5a-47b0-990a-c6127bfc9bfd",
   "metadata": {},
   "outputs": [
    {
     "data": {
      "text/plain": "student_id         int64\nstudent_name      object\ngrade             object\nschool_name       object\nreading_score    float64\nmath_score       float64\nschool_type       object\nschool_budget      int64\ndtype: object"
     },
     "execution_count": 16,
     "metadata": {},
     "output_type": "execute_result"
    }
   ],
   "source": [
    "# Check data types\n",
    "student_df.dtypes"
   ]
  },
  {
   "cell_type": "code",
   "execution_count": 17,
   "id": "f1e2d12e-c56d-47bc-b9a0-01f97400c4a3",
   "metadata": {},
   "outputs": [
    {
     "data": {
      "text/plain": "0    9th\n1    9th\n2    9th\n3    9th\n5    9th\nName: grade, dtype: object"
     },
     "execution_count": 17,
     "metadata": {},
     "output_type": "execute_result"
    }
   ],
   "source": [
    "# Examine the grade column to understand why it is not an int\n",
    "student_df['grade'].head()"
   ]
  },
  {
   "cell_type": "code",
   "execution_count": 18,
   "id": "29b32018",
   "metadata": {},
   "outputs": [
    {
     "name": "stderr",
     "output_type": "stream",
     "text": [
      "C:\\Users\\Michael\\AppData\\Local\\Temp\\ipykernel_8004\\2206082602.py:2: FutureWarning: The default value of regex will change from True to False in a future version.\n",
      "  student_df['grade'] = student_df['grade'].str.replace('[th]', '')\n"
     ]
    },
    {
     "data": {
      "text/plain": "0         9\n1         9\n2         9\n3         9\n5         9\n         ..\n19508    10\n19509    12\n19511    11\n19512    11\n19513    12\nName: grade, Length: 14831, dtype: object"
     },
     "execution_count": 18,
     "metadata": {},
     "output_type": "execute_result"
    }
   ],
   "source": [
    "# Remove the non-numeric characters and verify the contents of the column\n",
    "student_df['grade'] = student_df['grade'].str.replace('[th]', '')\n",
    "student_df['grade']"
   ]
  },
  {
   "cell_type": "code",
   "execution_count": 19,
   "id": "09ebbec2-c5a7-49a9-9a21-f86c0f4c3791",
   "metadata": {},
   "outputs": [
    {
     "data": {
      "text/plain": "student_id         int64\nstudent_name      object\ngrade              int32\nschool_name       object\nreading_score    float64\nmath_score       float64\nschool_type       object\nschool_budget      int64\ndtype: object"
     },
     "execution_count": 19,
     "metadata": {},
     "output_type": "execute_result"
    }
   ],
   "source": [
    "# Change the grade column to the int type and verify column types\n",
    "student_df['grade'] = student_df['grade'].astype(int)\n",
    "student_df.dtypes"
   ]
  },
  {
   "cell_type": "markdown",
   "id": "e52c4a6f-7dd7-4bb6-8f75-5f0995e7b32b",
   "metadata": {},
   "source": [
    "## Deliverable 3: Summarize the Data\n",
    "\n",
    "Describe the data using summary statistics on the data as a whole and on individual columns.\n",
    "\n",
    "1. Generate the summary statistics for each DataFrame by using the `describe` function.\n",
    "\n",
    "2. Display the mean math score using the `mean` function. \n",
    "\n",
    "2. Store the minimum reading score as `min_reading_score`."
   ]
  },
  {
   "cell_type": "code",
   "execution_count": 20,
   "id": "ac4fc0af-babd-47fb-9962-66727ea0dc28",
   "metadata": {},
   "outputs": [
    {
     "data": {
      "text/plain": "         student_id         grade  reading_score    math_score  school_budget\ncount  1.483100e+04  14831.000000   14831.000000  14831.000000   14831.000000\nmean   6.975296e+07     10.355539      72.357865     64.675733  893742.749107\nstd    3.452909e+07      1.097728      15.224590     15.844093   53938.066467\nmin    1.000906e+07      9.000000      10.500000      3.700000  817615.000000\n25%    3.984433e+07      9.000000      62.200000     54.500000  846745.000000\n50%    6.965978e+07     10.000000      73.800000     65.300000  893368.000000\n75%    9.927449e+07     11.000000      84.000000     76.000000  956438.000000\nmax    1.299997e+08     12.000000     100.000000    100.000000  991918.000000",
      "text/html": "<div>\n<style scoped>\n    .dataframe tbody tr th:only-of-type {\n        vertical-align: middle;\n    }\n\n    .dataframe tbody tr th {\n        vertical-align: top;\n    }\n\n    .dataframe thead th {\n        text-align: right;\n    }\n</style>\n<table border=\"1\" class=\"dataframe\">\n  <thead>\n    <tr style=\"text-align: right;\">\n      <th></th>\n      <th>student_id</th>\n      <th>grade</th>\n      <th>reading_score</th>\n      <th>math_score</th>\n      <th>school_budget</th>\n    </tr>\n  </thead>\n  <tbody>\n    <tr>\n      <th>count</th>\n      <td>1.483100e+04</td>\n      <td>14831.000000</td>\n      <td>14831.000000</td>\n      <td>14831.000000</td>\n      <td>14831.000000</td>\n    </tr>\n    <tr>\n      <th>mean</th>\n      <td>6.975296e+07</td>\n      <td>10.355539</td>\n      <td>72.357865</td>\n      <td>64.675733</td>\n      <td>893742.749107</td>\n    </tr>\n    <tr>\n      <th>std</th>\n      <td>3.452909e+07</td>\n      <td>1.097728</td>\n      <td>15.224590</td>\n      <td>15.844093</td>\n      <td>53938.066467</td>\n    </tr>\n    <tr>\n      <th>min</th>\n      <td>1.000906e+07</td>\n      <td>9.000000</td>\n      <td>10.500000</td>\n      <td>3.700000</td>\n      <td>817615.000000</td>\n    </tr>\n    <tr>\n      <th>25%</th>\n      <td>3.984433e+07</td>\n      <td>9.000000</td>\n      <td>62.200000</td>\n      <td>54.500000</td>\n      <td>846745.000000</td>\n    </tr>\n    <tr>\n      <th>50%</th>\n      <td>6.965978e+07</td>\n      <td>10.000000</td>\n      <td>73.800000</td>\n      <td>65.300000</td>\n      <td>893368.000000</td>\n    </tr>\n    <tr>\n      <th>75%</th>\n      <td>9.927449e+07</td>\n      <td>11.000000</td>\n      <td>84.000000</td>\n      <td>76.000000</td>\n      <td>956438.000000</td>\n    </tr>\n    <tr>\n      <th>max</th>\n      <td>1.299997e+08</td>\n      <td>12.000000</td>\n      <td>100.000000</td>\n      <td>100.000000</td>\n      <td>991918.000000</td>\n    </tr>\n  </tbody>\n</table>\n</div>"
     },
     "execution_count": 20,
     "metadata": {},
     "output_type": "execute_result"
    }
   ],
   "source": [
    "# Display summary statistics for the DataFrame\n",
    "student_df.describe()"
   ]
  },
  {
   "cell_type": "code",
   "execution_count": 21,
   "id": "d94aa5d1",
   "metadata": {},
   "outputs": [
    {
     "data": {
      "text/plain": "64.67573326141189"
     },
     "execution_count": 21,
     "metadata": {},
     "output_type": "execute_result"
    }
   ],
   "source": [
    "# Display the mean math score using the mean function\n",
    "student_df[\"math_score\"].mean()"
   ]
  },
  {
   "cell_type": "code",
   "execution_count": 22,
   "id": "37ecf181",
   "metadata": {},
   "outputs": [
    {
     "data": {
      "text/plain": "10.5"
     },
     "execution_count": 22,
     "metadata": {},
     "output_type": "execute_result"
    }
   ],
   "source": [
    "# Store the minimum reading score as min_reading_score\n",
    "min_reading_score = student_df[\"reading_score\"].min()\n",
    "min_reading_score"
   ]
  },
  {
   "cell_type": "markdown",
   "id": "e871f21e-6077-4d70-9c3a-926759d46bed",
   "metadata": {},
   "source": [
    "## Deliverable 4: Drill Down into the Data\n",
    "\n",
    "Drill down to specific rows, columns, and subsets of the data.\n",
    "\n",
    "To drill down into the data, complete the following steps:\n",
    "\n",
    "1. Use `loc` to display the grade column.\n",
    "\n",
    "2. Use `iloc` to display the first 3 rows and columns 3, 4, and 5.\n",
    "\n",
    "3. Show the rows for grade nine using `loc`.\n",
    "\n",
    "4. Store the row with the minimum overall reading score as `min_reading_row` using `loc` and the `min_reading_score` found in Deliverable 3.\n",
    "\n",
    "5. Find the reading scores for the school and grade from the output of step three using `loc` with multiple conditional statements.\n",
    "\n",
    "6. Using conditional statements and `loc` or `iloc`, find the mean reading score for all students in grades 11 and 12 combined."
   ]
  },
  {
   "cell_type": "code",
   "execution_count": 23,
   "id": "78464611",
   "metadata": {},
   "outputs": [
    {
     "data": {
      "text/plain": "0         9\n1         9\n2         9\n3         9\n5         9\n         ..\n19508    10\n19509    12\n19511    11\n19512    11\n19513    12\nName: grade, Length: 14831, dtype: int32"
     },
     "execution_count": 23,
     "metadata": {},
     "output_type": "execute_result"
    }
   ],
   "source": [
    "# Use loc to display the grade column\n",
    "student_df.loc[:,\"grade\"]"
   ]
  },
  {
   "cell_type": "code",
   "execution_count": 24,
   "id": "ff0fd7cb",
   "metadata": {},
   "outputs": [
    {
     "data": {
      "text/plain": "            school_name  reading_score  math_score\n0  Sullivan High School           59.0        88.2\n1     Dixon High School           94.7        73.5\n2    Wagner High School           89.0        70.4",
      "text/html": "<div>\n<style scoped>\n    .dataframe tbody tr th:only-of-type {\n        vertical-align: middle;\n    }\n\n    .dataframe tbody tr th {\n        vertical-align: top;\n    }\n\n    .dataframe thead th {\n        text-align: right;\n    }\n</style>\n<table border=\"1\" class=\"dataframe\">\n  <thead>\n    <tr style=\"text-align: right;\">\n      <th></th>\n      <th>school_name</th>\n      <th>reading_score</th>\n      <th>math_score</th>\n    </tr>\n  </thead>\n  <tbody>\n    <tr>\n      <th>0</th>\n      <td>Sullivan High School</td>\n      <td>59.0</td>\n      <td>88.2</td>\n    </tr>\n    <tr>\n      <th>1</th>\n      <td>Dixon High School</td>\n      <td>94.7</td>\n      <td>73.5</td>\n    </tr>\n    <tr>\n      <th>2</th>\n      <td>Wagner High School</td>\n      <td>89.0</td>\n      <td>70.4</td>\n    </tr>\n  </tbody>\n</table>\n</div>"
     },
     "execution_count": 24,
     "metadata": {},
     "output_type": "execute_result"
    }
   ],
   "source": [
    "# Use `iloc` to display the first 3 rows and columns 3, 4, and 5.\n",
    "student_df.iloc[0:3,3:6]"
   ]
  },
  {
   "cell_type": "code",
   "execution_count": 25,
   "id": "edb8027e",
   "metadata": {},
   "outputs": [
    {
     "data": {
      "text/plain": "<bound method NDFrame.describe of        student_id      student_name  grade             school_name  \\\n0       103880842     Travis Martin      9    Sullivan High School   \n1        45069750     Michael Brown      9       Dixon High School   \n2        45024902   Gabriela Lucero      9      Wagner High School   \n3        62582498  Susan Richardson      9       Silva High School   \n5        74579444   Cynthia Johnson      9  Montgomery High School   \n...           ...               ...    ...                     ...   \n19477    14165038     William Smith      9       Dixon High School   \n19478    46569330     Angie Flowers      9      Bowers High School   \n19481    99423494     Sherry Rogers      9       Silva High School   \n19493    68274108       Mary Murray      9      Wagner High School   \n19497    56856952     Joshua Holmes      9      Wagner High School   \n\n       reading_score  math_score school_type  school_budget  \n0               59.0        88.2      Public         961125  \n1               94.7        73.5     Charter         870334  \n2               89.0        70.4      Public         846745  \n3               69.7        80.3      Public         991918  \n5               63.5        76.9     Charter         893368  \n...              ...         ...         ...            ...  \n19477           69.8        65.0     Charter         870334  \n19478           50.4        61.7      Public         848324  \n19481           47.0        88.4      Public         991918  \n19493           63.4        53.4      Public         846745  \n19497           77.2        76.5      Public         846745  \n\n[4132 rows x 8 columns]>"
     },
     "execution_count": 25,
     "metadata": {},
     "output_type": "execute_result"
    }
   ],
   "source": [
    "# Select the rows for grade nine and display their summary statistics using `loc` and `describe`.\n",
    "summary_stats = student_df.loc[student_df['grade'] == 9]\n",
    "summary_stats.describe"
   ]
  },
  {
   "cell_type": "code",
   "execution_count": 26,
   "id": "e40b203d-6597-487a-82cf-157731148084",
   "metadata": {},
   "outputs": [
    {
     "data": {
      "text/plain": "      student_id    student_name  grade        school_name  reading_score  \\\n3706    81758630  Matthew Thomas     10  Dixon High School           10.5   \n\n      math_score school_type  school_budget  \n3706        58.4     Charter         870334  ",
      "text/html": "<div>\n<style scoped>\n    .dataframe tbody tr th:only-of-type {\n        vertical-align: middle;\n    }\n\n    .dataframe tbody tr th {\n        vertical-align: top;\n    }\n\n    .dataframe thead th {\n        text-align: right;\n    }\n</style>\n<table border=\"1\" class=\"dataframe\">\n  <thead>\n    <tr style=\"text-align: right;\">\n      <th></th>\n      <th>student_id</th>\n      <th>student_name</th>\n      <th>grade</th>\n      <th>school_name</th>\n      <th>reading_score</th>\n      <th>math_score</th>\n      <th>school_type</th>\n      <th>school_budget</th>\n    </tr>\n  </thead>\n  <tbody>\n    <tr>\n      <th>3706</th>\n      <td>81758630</td>\n      <td>Matthew Thomas</td>\n      <td>10</td>\n      <td>Dixon High School</td>\n      <td>10.5</td>\n      <td>58.4</td>\n      <td>Charter</td>\n      <td>870334</td>\n    </tr>\n  </tbody>\n</table>\n</div>"
     },
     "execution_count": 26,
     "metadata": {},
     "output_type": "execute_result"
    }
   ],
   "source": [
    "# Store the row with the minimum overall reading score as `min_reading_row`\n",
    "# using `loc` and the `min_reading_score` found in Deliverable 3.\n",
    "min_reading_row = student_df.loc[student_df['reading_score'] == min_reading_score]\n",
    "min_reading_row"
   ]
  },
  {
   "cell_type": "code",
   "execution_count": 27,
   "id": "f4a44f87-acb8-423e-95ca-88e6f644eeb2",
   "metadata": {},
   "outputs": [
    {
     "data": {
      "text/plain": "             school_name  reading_score\n45     Dixon High School           71.1\n60     Dixon High School           59.5\n69     Dixon High School           88.6\n94     Dixon High School           81.5\n100    Dixon High School           95.3\n...                  ...            ...\n19283  Dixon High School           52.9\n19306  Dixon High School           58.0\n19344  Dixon High School           38.0\n19368  Dixon High School           84.4\n19445  Dixon High School           43.9\n\n[569 rows x 2 columns]",
      "text/html": "<div>\n<style scoped>\n    .dataframe tbody tr th:only-of-type {\n        vertical-align: middle;\n    }\n\n    .dataframe tbody tr th {\n        vertical-align: top;\n    }\n\n    .dataframe thead th {\n        text-align: right;\n    }\n</style>\n<table border=\"1\" class=\"dataframe\">\n  <thead>\n    <tr style=\"text-align: right;\">\n      <th></th>\n      <th>school_name</th>\n      <th>reading_score</th>\n    </tr>\n  </thead>\n  <tbody>\n    <tr>\n      <th>45</th>\n      <td>Dixon High School</td>\n      <td>71.1</td>\n    </tr>\n    <tr>\n      <th>60</th>\n      <td>Dixon High School</td>\n      <td>59.5</td>\n    </tr>\n    <tr>\n      <th>69</th>\n      <td>Dixon High School</td>\n      <td>88.6</td>\n    </tr>\n    <tr>\n      <th>94</th>\n      <td>Dixon High School</td>\n      <td>81.5</td>\n    </tr>\n    <tr>\n      <th>100</th>\n      <td>Dixon High School</td>\n      <td>95.3</td>\n    </tr>\n    <tr>\n      <th>...</th>\n      <td>...</td>\n      <td>...</td>\n    </tr>\n    <tr>\n      <th>19283</th>\n      <td>Dixon High School</td>\n      <td>52.9</td>\n    </tr>\n    <tr>\n      <th>19306</th>\n      <td>Dixon High School</td>\n      <td>58.0</td>\n    </tr>\n    <tr>\n      <th>19344</th>\n      <td>Dixon High School</td>\n      <td>38.0</td>\n    </tr>\n    <tr>\n      <th>19368</th>\n      <td>Dixon High School</td>\n      <td>84.4</td>\n    </tr>\n    <tr>\n      <th>19445</th>\n      <td>Dixon High School</td>\n      <td>43.9</td>\n    </tr>\n  </tbody>\n</table>\n<p>569 rows × 2 columns</p>\n</div>"
     },
     "execution_count": 27,
     "metadata": {},
     "output_type": "execute_result"
    }
   ],
   "source": [
    "# Use loc with conditionals to select all reading scores from 10th graders at Dixon High School.\n",
    "tenth_reading_row = student_df.loc[(student_df[\"school_name\"] == \"Dixon High School\") & (student_df[\"grade\"] == 10)]\n",
    "tenth_reading_row[['school_name','reading_score']]\n"
   ]
  },
  {
   "cell_type": "code",
   "execution_count": 28,
   "id": "d6c2a244-c8aa-4cf6-a1e2-ddace72666eb",
   "metadata": {},
   "outputs": [
    {
     "data": {
      "text/plain": "74.90038089192188"
     },
     "execution_count": 28,
     "metadata": {},
     "output_type": "execute_result"
    }
   ],
   "source": [
    "# Find the mean reading score for all students in grades 11 and 12 combined.\n",
    "student_df.loc[(student_df[\"grade\"] == 11) | (student_df[\"grade\"] == 12), \"reading_score\"].mean()\n"
   ]
  },
  {
   "cell_type": "markdown",
   "id": "177ba341-9b50-4244-93fa-3646120daf51",
   "metadata": {},
   "source": [
    "## Deliverable 5: Make Comparisons Between District and Charter Schools\n",
    "\n",
    "Compare district vs charter schools for budget, size, and scores.\n",
    "\n",
    "Make comparisons within your data by completing the following steps:\n",
    "\n",
    "1. Using the `groupby` and `mean` functions, look at the average reading and math scores per school type.\n",
    "\n",
    "1. Using the `groupby` and `count` functions, find the total number of students at each school.\n",
    "\n",
    "2. Using the `groupby` and `mean` functions, find the average budget per grade for each school type."
   ]
  },
  {
   "cell_type": "code",
   "execution_count": 29,
   "id": "8eac115a-c392-446c-ad83-456d0f87eca7",
   "metadata": {},
   "outputs": [
    {
     "data": {
      "text/plain": "                   math_score  reading_score\nschool_type grade                           \nCharter     9            70.0           69.0\n            10           66.0           70.0\n            11           68.0           81.0\n            12           60.0           70.0\nPublic      9            64.0           70.0\n            10           64.0           73.0\n            11           59.0           73.0\n            12           64.0           73.0",
      "text/html": "<div>\n<style scoped>\n    .dataframe tbody tr th:only-of-type {\n        vertical-align: middle;\n    }\n\n    .dataframe tbody tr th {\n        vertical-align: top;\n    }\n\n    .dataframe thead th {\n        text-align: right;\n    }\n</style>\n<table border=\"1\" class=\"dataframe\">\n  <thead>\n    <tr style=\"text-align: right;\">\n      <th></th>\n      <th></th>\n      <th>math_score</th>\n      <th>reading_score</th>\n    </tr>\n    <tr>\n      <th>school_type</th>\n      <th>grade</th>\n      <th></th>\n      <th></th>\n    </tr>\n  </thead>\n  <tbody>\n    <tr>\n      <th rowspan=\"4\" valign=\"top\">Charter</th>\n      <th>9</th>\n      <td>70.0</td>\n      <td>69.0</td>\n    </tr>\n    <tr>\n      <th>10</th>\n      <td>66.0</td>\n      <td>70.0</td>\n    </tr>\n    <tr>\n      <th>11</th>\n      <td>68.0</td>\n      <td>81.0</td>\n    </tr>\n    <tr>\n      <th>12</th>\n      <td>60.0</td>\n      <td>70.0</td>\n    </tr>\n    <tr>\n      <th rowspan=\"4\" valign=\"top\">Public</th>\n      <th>9</th>\n      <td>64.0</td>\n      <td>70.0</td>\n    </tr>\n    <tr>\n      <th>10</th>\n      <td>64.0</td>\n      <td>73.0</td>\n    </tr>\n    <tr>\n      <th>11</th>\n      <td>59.0</td>\n      <td>73.0</td>\n    </tr>\n    <tr>\n      <th>12</th>\n      <td>64.0</td>\n      <td>73.0</td>\n    </tr>\n  </tbody>\n</table>\n</div>"
     },
     "execution_count": 29,
     "metadata": {},
     "output_type": "execute_result"
    }
   ],
   "source": [
    "# Use groupby and mean to find the average reading and math scores for each school type.\n",
    "mean_scores = student_df.groupby([\"school_type\",\"grade\"]).mean().round(0)\n",
    "mean_scores.loc[:,[\"math_score\",\"reading_score\"]]"
   ]
  },
  {
   "cell_type": "code",
   "execution_count": 30,
   "id": "a3ee96e8-d653-44b1-811f-979880649046",
   "metadata": {},
   "outputs": [
    {
     "data": {
      "text/plain": "                        student_id  student_name  grade  reading_score  \\\nschool_name                                                              \nMontgomery High School        2038          2038   2038           2038   \nGreen High School             1961          1961   1961           1961   \nDixon High School             1583          1583   1583           1583   \nWagner High School            1541          1541   1541           1541   \nSilva High School             1109          1109   1109           1109   \nWoods High School             1052          1052   1052           1052   \nSullivan High School           971           971    971            971   \nTurner High School             846           846    846            846   \nBowers High School             803           803    803            803   \nFisher High School             798           798    798            798   \nRichard High School            551           551    551            551   \nCampos High School             541           541    541            541   \nOdonnell High School           459           459    459            459   \nCampbell High School           407           407    407            407   \nChang High School              171           171    171            171   \n\n                        math_score  school_type  school_budget  \nschool_name                                                     \nMontgomery High School        2038         2038           2038  \nGreen High School             1961         1961           1961  \nDixon High School             1583         1583           1583  \nWagner High School            1541         1541           1541  \nSilva High School             1109         1109           1109  \nWoods High School             1052         1052           1052  \nSullivan High School           971          971            971  \nTurner High School             846          846            846  \nBowers High School             803          803            803  \nFisher High School             798          798            798  \nRichard High School            551          551            551  \nCampos High School             541          541            541  \nOdonnell High School           459          459            459  \nCampbell High School           407          407            407  \nChang High School              171          171            171  ",
      "text/html": "<div>\n<style scoped>\n    .dataframe tbody tr th:only-of-type {\n        vertical-align: middle;\n    }\n\n    .dataframe tbody tr th {\n        vertical-align: top;\n    }\n\n    .dataframe thead th {\n        text-align: right;\n    }\n</style>\n<table border=\"1\" class=\"dataframe\">\n  <thead>\n    <tr style=\"text-align: right;\">\n      <th></th>\n      <th>student_id</th>\n      <th>student_name</th>\n      <th>grade</th>\n      <th>reading_score</th>\n      <th>math_score</th>\n      <th>school_type</th>\n      <th>school_budget</th>\n    </tr>\n    <tr>\n      <th>school_name</th>\n      <th></th>\n      <th></th>\n      <th></th>\n      <th></th>\n      <th></th>\n      <th></th>\n      <th></th>\n    </tr>\n  </thead>\n  <tbody>\n    <tr>\n      <th>Montgomery High School</th>\n      <td>2038</td>\n      <td>2038</td>\n      <td>2038</td>\n      <td>2038</td>\n      <td>2038</td>\n      <td>2038</td>\n      <td>2038</td>\n    </tr>\n    <tr>\n      <th>Green High School</th>\n      <td>1961</td>\n      <td>1961</td>\n      <td>1961</td>\n      <td>1961</td>\n      <td>1961</td>\n      <td>1961</td>\n      <td>1961</td>\n    </tr>\n    <tr>\n      <th>Dixon High School</th>\n      <td>1583</td>\n      <td>1583</td>\n      <td>1583</td>\n      <td>1583</td>\n      <td>1583</td>\n      <td>1583</td>\n      <td>1583</td>\n    </tr>\n    <tr>\n      <th>Wagner High School</th>\n      <td>1541</td>\n      <td>1541</td>\n      <td>1541</td>\n      <td>1541</td>\n      <td>1541</td>\n      <td>1541</td>\n      <td>1541</td>\n    </tr>\n    <tr>\n      <th>Silva High School</th>\n      <td>1109</td>\n      <td>1109</td>\n      <td>1109</td>\n      <td>1109</td>\n      <td>1109</td>\n      <td>1109</td>\n      <td>1109</td>\n    </tr>\n    <tr>\n      <th>Woods High School</th>\n      <td>1052</td>\n      <td>1052</td>\n      <td>1052</td>\n      <td>1052</td>\n      <td>1052</td>\n      <td>1052</td>\n      <td>1052</td>\n    </tr>\n    <tr>\n      <th>Sullivan High School</th>\n      <td>971</td>\n      <td>971</td>\n      <td>971</td>\n      <td>971</td>\n      <td>971</td>\n      <td>971</td>\n      <td>971</td>\n    </tr>\n    <tr>\n      <th>Turner High School</th>\n      <td>846</td>\n      <td>846</td>\n      <td>846</td>\n      <td>846</td>\n      <td>846</td>\n      <td>846</td>\n      <td>846</td>\n    </tr>\n    <tr>\n      <th>Bowers High School</th>\n      <td>803</td>\n      <td>803</td>\n      <td>803</td>\n      <td>803</td>\n      <td>803</td>\n      <td>803</td>\n      <td>803</td>\n    </tr>\n    <tr>\n      <th>Fisher High School</th>\n      <td>798</td>\n      <td>798</td>\n      <td>798</td>\n      <td>798</td>\n      <td>798</td>\n      <td>798</td>\n      <td>798</td>\n    </tr>\n    <tr>\n      <th>Richard High School</th>\n      <td>551</td>\n      <td>551</td>\n      <td>551</td>\n      <td>551</td>\n      <td>551</td>\n      <td>551</td>\n      <td>551</td>\n    </tr>\n    <tr>\n      <th>Campos High School</th>\n      <td>541</td>\n      <td>541</td>\n      <td>541</td>\n      <td>541</td>\n      <td>541</td>\n      <td>541</td>\n      <td>541</td>\n    </tr>\n    <tr>\n      <th>Odonnell High School</th>\n      <td>459</td>\n      <td>459</td>\n      <td>459</td>\n      <td>459</td>\n      <td>459</td>\n      <td>459</td>\n      <td>459</td>\n    </tr>\n    <tr>\n      <th>Campbell High School</th>\n      <td>407</td>\n      <td>407</td>\n      <td>407</td>\n      <td>407</td>\n      <td>407</td>\n      <td>407</td>\n      <td>407</td>\n    </tr>\n    <tr>\n      <th>Chang High School</th>\n      <td>171</td>\n      <td>171</td>\n      <td>171</td>\n      <td>171</td>\n      <td>171</td>\n      <td>171</td>\n      <td>171</td>\n    </tr>\n  </tbody>\n</table>\n</div>"
     },
     "execution_count": 30,
     "metadata": {},
     "output_type": "execute_result"
    }
   ],
   "source": [
    "# Use the `groupby`, `count`, and `sort_values` functions to find the\n",
    "# total number of students at each school and sort from most students to least students.\n",
    "student_df.groupby(\"school_name\").count().sort_values(\"student_id\", ascending = False)\n"
   ]
  },
  {
   "cell_type": "code",
   "execution_count": 39,
   "id": "3e9018ab-17db-431d-98ef-0c7195b647bb",
   "metadata": {},
   "outputs": [
    {
     "data": {
      "text/plain": "school_type\nCharter    872625.656236\nPublic     911195.558251\nName: school_budget, dtype: float64"
     },
     "execution_count": 39,
     "metadata": {},
     "output_type": "execute_result"
    }
   ],
   "source": [
    "#Use groupby and mean to get school budget for each school type\n",
    "School_budget = student_df.groupby([\"school_type\"]).mean()\n",
    "School_budget.loc[:,\"school_budget\"]"
   ]
  },
  {
   "cell_type": "markdown",
   "id": "bbd0576f-e986-457c-930f-0eb8ee435b57",
   "metadata": {},
   "source": [
    "# Deliverable 6: Summarize Your Findings\n",
    "In the cell below, write a few sentences to describe any discoveries you made while performing your analysis along with any additional analysis you believe would be worthwhile."
   ]
  },
  {
   "cell_type": "markdown",
   "source": [
    "I have noticed that charter schools score almost equal to or far better in math and reading. You can see this with the table above that displays the mean for all grades.\n",
    "It is also noticeable at the table that across all the grades and between charter and public schools that reading scores are higher than math scores. It also seems that the 11th grade class for charter schools is going to be a strong class for the future.\n",
    "\n",
    "The budget for public schools is higher than charter schools in spite of the previous statement. It is also noticeable that the biggest schools and smallest schools are charter schools. The public schools have the least variance between student numbers."
   ],
   "metadata": {
    "collapsed": false
   }
  },
  {
   "cell_type": "markdown",
   "id": "396f269c-7081-4e43-a203-0a2750b51fa4",
   "metadata": {},
   "source": []
  }
 ],
 "metadata": {
  "kernelspec": {
   "display_name": "Python 3",
   "language": "python",
   "name": "python3"
  },
  "language_info": {
   "codemirror_mode": {
    "name": "ipython",
    "version": 3
   },
   "file_extension": ".py",
   "mimetype": "text/x-python",
   "name": "python",
   "nbconvert_exporter": "python",
   "pygments_lexer": "ipython3",
   "version": "3.8.8"
  }
 },
 "nbformat": 4,
 "nbformat_minor": 5
}
